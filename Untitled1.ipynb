{
 "cells": [
  {
   "cell_type": "code",
   "execution_count": 1,
   "id": "71767431",
   "metadata": {},
   "outputs": [],
   "source": [
    "import numpy as np"
   ]
  },
  {
   "cell_type": "code",
   "execution_count": 2,
   "id": "67caa490",
   "metadata": {},
   "outputs": [],
   "source": [
    "restaurants = ['Achadol','Haidilao Hotpot','Geulim Nabae']"
   ]
  },
  {
   "cell_type": "code",
   "execution_count": 3,
   "id": "4678b91c",
   "metadata": {},
   "outputs": [],
   "source": [
    "random_choice = np.random.randint(0,3,(1))"
   ]
  },
  {
   "cell_type": "code",
   "execution_count": 4,
   "id": "96d2dc2d",
   "metadata": {},
   "outputs": [
    {
     "data": {
      "text/plain": [
       "(1,)"
      ]
     },
     "execution_count": 4,
     "metadata": {},
     "output_type": "execute_result"
    }
   ],
   "source": [
    "random_choice.shape"
   ]
  },
  {
   "cell_type": "code",
   "execution_count": 5,
   "id": "130022b3",
   "metadata": {},
   "outputs": [
    {
     "data": {
      "text/plain": [
       "'Geulim Nabae'"
      ]
     },
     "execution_count": 5,
     "metadata": {},
     "output_type": "execute_result"
    }
   ],
   "source": [
    "restaurants[random_choice[0]]"
   ]
  },
  {
   "cell_type": "code",
   "execution_count": null,
   "id": "69fd6ba9",
   "metadata": {},
   "outputs": [],
   "source": []
  }
 ],
 "metadata": {
  "kernelspec": {
   "display_name": "Python 3",
   "language": "python",
   "name": "python3"
  },
  "language_info": {
   "codemirror_mode": {
    "name": "ipython",
    "version": 3
   },
   "file_extension": ".py",
   "mimetype": "text/x-python",
   "name": "python",
   "nbconvert_exporter": "python",
   "pygments_lexer": "ipython3",
   "version": "3.9.15"
  }
 },
 "nbformat": 4,
 "nbformat_minor": 5
}

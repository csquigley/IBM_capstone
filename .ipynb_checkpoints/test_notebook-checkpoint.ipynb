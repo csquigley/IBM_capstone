{
 "cells": [
  {
   "cell_type": "code",
   "execution_count": 1,
   "id": "cb2625d0",
   "metadata": {},
   "outputs": [],
   "source": [
    "#Test Notebook"
   ]
  },
  {
   "cell_type": "code",
   "execution_count": 2,
   "id": "f473c42e",
   "metadata": {},
   "outputs": [],
   "source": [
    "import numpy as np"
   ]
  },
  {
   "cell_type": "code",
   "execution_count": 3,
   "id": "d2bd6600",
   "metadata": {},
   "outputs": [],
   "source": [
    "arr1 = np.random.randint(1,11,(5,5))\n",
    "arr2 = np.random.randint(1,11,(5,5))"
   ]
  },
  {
   "cell_type": "code",
   "execution_count": 4,
   "id": "8076e91f",
   "metadata": {},
   "outputs": [],
   "source": [
    "arr3 = arr1.T@arr2"
   ]
  },
  {
   "cell_type": "code",
   "execution_count": 7,
   "id": "3909767d",
   "metadata": {},
   "outputs": [
    {
     "data": {
      "text/plain": [
       "array([[ 8.15,  7.75,  4.65,  5.  ,  7.25],\n",
       "       [ 9.7 ,  8.8 , 10.35,  9.2 , 11.8 ],\n",
       "       [ 8.1 ,  5.6 , 11.4 ,  8.6 , 11.95],\n",
       "       [ 9.2 ,  7.5 ,  9.  ,  7.  , 10.8 ],\n",
       "       [10.9 ,  7.15, 10.4 ,  9.8 , 12.5 ]])"
      ]
     },
     "execution_count": 7,
     "metadata": {},
     "output_type": "execute_result"
    }
   ],
   "source": [
    "arr3/20"
   ]
  },
  {
   "cell_type": "code",
   "execution_count": null,
   "id": "ec7e604c",
   "metadata": {},
   "outputs": [],
   "source": []
  }
 ],
 "metadata": {
  "kernelspec": {
   "display_name": "Python 3 (ipykernel)",
   "language": "python",
   "name": "python3"
  },
  "language_info": {
   "codemirror_mode": {
    "name": "ipython",
    "version": 3
   },
   "file_extension": ".py",
   "mimetype": "text/x-python",
   "name": "python",
   "nbconvert_exporter": "python",
   "pygments_lexer": "ipython3",
   "version": "3.9.15"
  }
 },
 "nbformat": 4,
 "nbformat_minor": 5
}

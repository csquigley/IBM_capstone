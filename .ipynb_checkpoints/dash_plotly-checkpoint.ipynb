{
 "cells": [
  {
   "cell_type": "code",
   "execution_count": null,
   "id": "653e9d44",
   "metadata": {},
   "outputs": [],
   "source": [
    "import pandas as pd\n",
    "import dash\n",
    "from dash import html\n",
    "from dash import dcc\n",
    "from dash.dependencies import Input, Output\n",
    "import plotly.express as px\n",
    "import pandas as pd\n",
    "import matplotlib.pyplot as plt"
   ]
  },
  {
   "cell_type": "code",
   "execution_count": null,
   "id": "6138d400",
   "metadata": {},
   "outputs": [],
   "source": [
    "spacex_df = pd.read_csv(r\"https://cf-courses-data.s3.us.cloud-object-storage.appdomain.cloud/IBM-DS0321EN-SkillsNetwork/datasets/spacex_launch_dash.csv\")"
   ]
  },
  {
   "cell_type": "code",
   "execution_count": 3,
   "id": "40ffa6a4",
   "metadata": {},
   "outputs": [],
   "source": [
    "max_value = spacex_df['Payload Mass (kg)'].max()\n",
    "min_value = spacex_df['Payload Mass (kg)'].min()"
   ]
  },
  {
   "cell_type": "code",
   "execution_count": 4,
   "id": "11f210a8",
   "metadata": {},
   "outputs": [
    {
     "name": "stdout",
     "output_type": "stream",
     "text": [
      "Dash is running on http://127.0.0.1:8050/\n",
      "\n",
      " * Serving Flask app '__main__'\n",
      " * Debug mode: off\n"
     ]
    },
    {
     "name": "stderr",
     "output_type": "stream",
     "text": [
      "\u001b[31m\u001b[1mWARNING: This is a development server. Do not use it in a production deployment. Use a production WSGI server instead.\u001b[0m\n",
      " * Running on http://127.0.0.1:8050\n",
      "\u001b[33mPress CTRL+C to quit\u001b[0m\n",
      "127.0.0.1 - - [20/Apr/2023 22:06:27] \"GET / HTTP/1.1\" 200 -\n",
      "127.0.0.1 - - [20/Apr/2023 22:06:28] \"GET /_dash-layout HTTP/1.1\" 200 -\n",
      "127.0.0.1 - - [20/Apr/2023 22:06:28] \"GET /_dash-dependencies HTTP/1.1\" 200 -\n",
      "127.0.0.1 - - [20/Apr/2023 22:06:28] \"GET /_dash-component-suites/dash/dcc/async-dropdown.js HTTP/1.1\" 200 -\n",
      "127.0.0.1 - - [20/Apr/2023 22:06:28] \"GET /_dash-component-suites/dash/dcc/async-graph.js HTTP/1.1\" 200 -\n",
      "127.0.0.1 - - [20/Apr/2023 22:06:28] \"GET /_dash-component-suites/dash/dcc/async-slider.js HTTP/1.1\" 200 -\n",
      "127.0.0.1 - - [20/Apr/2023 22:06:28] \"\u001b[36mGET /_dash-component-suites/dash/dcc/async-plotlyjs.js HTTP/1.1\u001b[0m\" 304 -\n",
      "127.0.0.1 - - [20/Apr/2023 22:06:29] \"POST /_dash-update-component HTTP/1.1\" 200 -\n",
      "127.0.0.1 - - [20/Apr/2023 22:06:29] \"POST /_dash-update-component HTTP/1.1\" 200 -\n",
      "127.0.0.1 - - [20/Apr/2023 22:07:44] \"POST /_dash-update-component HTTP/1.1\" 200 -\n",
      "127.0.0.1 - - [20/Apr/2023 22:07:44] \"POST /_dash-update-component HTTP/1.1\" 200 -\n"
     ]
    }
   ],
   "source": [
    "app = dash.Dash(__name__)\n",
    "\n",
    "# Create an app layout\n",
    "app.layout = html.Div(children=[html.H1('SpaceX Launch Records Dashboard',\n",
    "                                        style={'textAlign': 'center', 'color': '#503D36',\n",
    "                                               'font-size': 40}),\n",
    "                                # TASK 1: Add a dropdown list to enable Launch Site selection\n",
    "                                # The default select value is for ALL sites\n",
    "                                dcc.Dropdown(id='site-dropdown',\n",
    "                                    options=[\n",
    "                                    {'label': 'All Sites', 'value': 'ALL'},\n",
    "                                    {'label': 'CCAFS LC-40', 'value': 'CCAFS LC-40'},\n",
    "                                    {'label': 'VAFB SLC-4E', 'value': 'VAFB SLC-4E'},\n",
    "                                    {'label': 'KSC LC-39A', 'value': 'KSC LC-39A'},\n",
    "                                    {'label': 'CCAFS SLC-40', 'value': 'CCAFS SLC-40'}],\n",
    "                                    value='ALL',\n",
    "                                    placeholder=\"Select Launch Site\",\n",
    "                                    searchable=True),\n",
    "                                html.Br(),\n",
    "\n",
    "                                # TASK 2: Add a pie chart to show the total successful launches count for all sites\n",
    "                                # If a specific launch site was selected, show the Success vs. Failed counts for the site\n",
    "                                html.Div(dcc.Graph(id='success-pie-chart')),\n",
    "                                html.Br(),\n",
    "\n",
    "                                html.P(\"Payload range (Kg):\"),\n",
    "                                # TASK 3: Add a slider to select payload range\n",
    "                                #dcc.RangeSlider(id='payload-slider',...)\n",
    "                                dcc.RangeSlider(id='payload-slider', min=0, max=10000, step=1000, marks={0: '0', 1000: '1000',2000:'2000',3000:'3000',4000:'4000',5000:'5000',6000:'6000',7000:'7000',8000:'8000',9000:'9000',10000:'10000'},value=[min_value, max_value]),\n",
    "                                # TASK 4: Add a scatter chart to show the correlation between payload and launch success\n",
    "                                html.Div(dcc.Graph(id='success-payload-scatter-chart')),\n",
    "                                ])\n",
    "\n",
    "# TASK 2:\n",
    "# Add a callback function for `site-dropdown` as input, `success-pie-chart` as output\n",
    "@app.callback(Output(component_id='success-pie-chart', component_property='figure'),\n",
    "              Input(component_id='site-dropdown', component_property='value'))\n",
    "def get_pie_chart(entered_site):\n",
    "    filtered_df = spacex_df[]\n",
    "    if entered_site == 'ALL':\n",
    "        fig = px.pie(spacex_df, values='class', \n",
    "        names='Launch Site', \n",
    "        title='title')\n",
    "        return fig\n",
    "    else:\n",
    "        ndf = spacex_df[spacex_df['Launch Site'] == entered_site]\n",
    "        fig = px.pie(ndf,names='class',title=f'{entered_site} Success (1) vs Failure (0)')\n",
    "        return fig\n",
    "    \n",
    "#Scatter Plot\n",
    "@app.callback(Output(component_id='success-payload-scatter-chart', component_property='figure'),\n",
    "              Input(component_id='site-dropdown', component_property='value'),\n",
    "             Input(component_id='payload-slider',component_property='value'))\n",
    "def get_scatter_plot(entered_site,range_slider):\n",
    "    \n",
    "    if entered_site == 'ALL':\n",
    "        df = spacex_df.query(f\"`Payload Mass (kg)` >= {range_slider[0]} and `Payload Mass (kg)` < {range_slider[1]}\")\n",
    "        fig = px.scatter(df,y='class',x='Payload Mass (kg)',size='Payload Mass (kg)',color='Launch Site')\n",
    "        return fig\n",
    "    else:\n",
    "        df = spacex_df.query(f\"`Payload Mass (kg)` >= {range_slider[0]} and `Payload Mass (kg)` < {range_slider[1]}\")\n",
    "        df = df[df['Launch Site'] == entered_site]\n",
    "        fig = px.scatter(df,x='Payload Mass (kg)',y='class',size='Payload Mass (kg)',color='class')\n",
    "        \n",
    "        return fig\n",
    "        \n",
    "    \n",
    "\n",
    "        \n",
    "# TASK 4:\n",
    "# Add a callback function for `site-dropdown` and `payload-slider` as inputs, `success-payload-scatter-chart` as output\n",
    "\n",
    "\n",
    "# Run the app\n",
    "if __name__ == '__main__':\n",
    "    app.run_server()\n",
    "\n"
   ]
  },
  {
   "cell_type": "code",
   "execution_count": null,
   "id": "4b435b29",
   "metadata": {},
   "outputs": [],
   "source": [
    "spacex_df.query(f\"`Payload Mass (kg)` >= {range_slider[0]} and `Payload Mass (kg)` < {range_slider[1]}\")"
   ]
  },
  {
   "cell_type": "code",
   "execution_count": null,
   "id": "e750cf58",
   "metadata": {},
   "outputs": [],
   "source": []
  }
 ],
 "metadata": {
  "kernelspec": {
   "display_name": "Python 3",
   "language": "python",
   "name": "python3"
  },
  "language_info": {
   "codemirror_mode": {
    "name": "ipython",
    "version": 3
   },
   "file_extension": ".py",
   "mimetype": "text/x-python",
   "name": "python",
   "nbconvert_exporter": "python",
   "pygments_lexer": "ipython3",
   "version": "3.9.15"
  }
 },
 "nbformat": 4,
 "nbformat_minor": 5
}
